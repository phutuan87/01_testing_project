{
 "cells": [
  {
   "cell_type": "markdown",
   "metadata": {},
   "source": [
    "# TÍNH TOÁN GRADIENT TRONG TORCH.TENSOR (Code for Pytorch)\n",
    "## Import các Libarary\n",
    "Sử dụng hai thư viện thao tác với matrix và vector là _numpy_ và _torch_."
   ]
  },
  {
   "cell_type": "code",
   "execution_count": 4,
   "metadata": {},
   "outputs": [],
   "source": [
    "import numpy as np\n",
    "import torch as T\n",
    "import torch.nn as nn\n",
    "import torch.nn.functional as F"
   ]
  },
  {
   "cell_type": "markdown",
   "metadata": {},
   "source": [
    "## Gradient trong Tensor\n",
    "Thiết lập một bộ số random cố định cho Tensor và tạo một mạng <font color='red'>_NN1_</font> với 2 ngõ vào và một ngõ ra.\n",
    "_NN1_ có tham số Weigh $\\boldsymbol{\\theta}=[\\theta_1,\\theta_2]$ và Bias $b$. Một mini-batch _in_var_ có batch-size $B=3$, $\\textbf{X}=\\{\\textbf{x}_1,\\textbf{x}_1,\\textbf{x}_3\\}$ với $\\textbf{x}_n=[x_{n,1},x_{n,2}]^\\top, n=1,2,3,$ được đựa vào mạng và hàm _loss_ được tính bởi:\n",
    "$$\n",
    "loss_n=NN1(\\textbf{x}_n)\n",
    "$$\n",
    "Một cách chi tiết hàm _loss_ được viết lại\n",
    "$$\n",
    "loss=\\theta_1 x_{n,1}+\\theta_2 x_{n,2}+b\n",
    "$$\n",
    "Như vậy _Gradient_ w.r.t $\\boldsymbol{\\theta}$, $\\nabla_{\\boldsymbol{\\theta}}|_{\\textbf{x}_n}$, chính là $\\textbf{x}_n^\\top$. Và _Gradient_ cho toàn mini-batch sẽ là trung bình của các _Gradient_ thành phần \n",
    "$$\n",
    "\\nabla_{\\boldsymbol{\\theta}}^\\text{mini-batch}=\\frac{1}{B}\\sum\\limits_{n=1}^3 \\textbf{x}_n=\\left[\\frac{1.4}{3},0.2\\right]\n",
    "$$"
   ]
  },
  {
   "cell_type": "code",
   "execution_count": 3,
   "metadata": {},
   "outputs": [
    {
     "name": "stdout",
     "output_type": "stream",
     "text": [
      "tensor(-0.2977, grad_fn=<MeanBackward0>)\n",
      "tensor([[0.4667, 0.2000]])\n"
     ]
    }
   ],
   "source": [
    "T.manual_seed(10)\n",
    "in_var = T.tensor([[0.5,-0.6],[0.7,1.],[0.2,0.2]],requires_grad=True)\n",
    "NN1 = nn.Linear(2,1)\n",
    "# nn.init.uniform_(NN1.weight.data,-1,1) # set param with rules\n",
    "# nn.init.constant_(NN1.bias.data,-1)\n",
    "out_var = NN1(in_var)\n",
    "\n",
    "loss = T.mean(out_var)\n",
    "print(loss)\n",
    "NN1.zero_grad()\n",
    "loss.backward()\n",
    "print(NN1.weight.grad)"
   ]
  },
  {
   "cell_type": "markdown",
   "metadata": {},
   "source": [
    "## Ảnh hưởng của Detach và Numpy đối với Gradient\n",
    "Ở phần này _loss_ sẽ được tính toán thủ công thông qua thao tác trên _numpy_ và sau đó kiểm tra _Gradient_ của $\\boldsymbol{\\theta}$.\n",
    "Đầu tiên, ta _detach()_ ngõ ra của _NN1_ (chính là _out_var_) sao đó chuyển sang _numpy_. Từ đây _mean_ được tính thủ công. Sau đó, _loss_ được chuyển về dạng _tensor_ tương ứng với dạng _output_ của phép <font color=red>_T.mean(out_var)_</font>. Tương tự ta tính _Gradient_ và thấy $\n",
    "\\nabla_{\\boldsymbol{\\theta}}^\\text{mini-batch}=\\left[0,0\\right]\n",
    "$. Như vậy, khi thao tác với _tensor_ phải chú ý việc bảo toàn _Gradient_ ở mỗi bước tính toán."
   ]
  },
  {
   "cell_type": "code",
   "execution_count": 4,
   "metadata": {},
   "outputs": [
    {
     "name": "stdout",
     "output_type": "stream",
     "text": [
      "tensor([[0., 0.]])\n"
     ]
    }
   ],
   "source": [
    "out_var = out_var.detach()\n",
    "out_var = out_var.numpy()\n",
    "lost_1 = out_var.sum()/out_var.shape[0]\n",
    "lost_1 = T.tensor(lost_1,requires_grad=True)\n",
    "NN1.zero_grad()\n",
    "lost_1.backward()\n",
    "print(NN1.weight.grad)"
   ]
  },
  {
   "cell_type": "markdown",
   "metadata": {},
   "source": [
    "## Ảnh hưởng Batch-Norm-1D đối với Gradient\n",
    "(image from _kratzert.github.io_)<br>\n",
    "<img src=\"https://kratzert.github.io/images/bn_backpass/BNcircuit.png\" alt=\"backnorm flow\" width=\"800\">"
   ]
  },
  {
   "cell_type": "code",
   "execution_count": 25,
   "metadata": {},
   "outputs": [
    {
     "name": "stdout",
     "output_type": "stream",
     "text": [
      "tensor([[-1.3416],\n",
      "        [-0.4472],\n",
      "        [ 0.4472],\n",
      "        [ 1.3416]], grad_fn=<NativeBatchNormBackward>)\n",
      "tensor(1.1921e-07, grad_fn=<MeanBackward0>)\n",
      "tensor([[-1.7513e-07]])\n"
     ]
    }
   ],
   "source": [
    "in_var_2 = T.tensor([[1.],[2.],[3.],[4.]],requires_grad=True)\n",
    "NN2 = nn.Linear(1,1)\n",
    "BN2 = nn.BatchNorm1d(1)\n",
    "out_var_2 = BN2(NN2(in_var_2))\n",
    "print(out_var_2)\n",
    "loss2 = T.mean(out_var_2)\n",
    "print(loss2)\n",
    "\n",
    "NN2.zero_grad()\n",
    "loss2.backward()\n",
    "print(NN2.weight.grad)\n",
    "\n",
    "# print(in_var.shape[0])\n",
    "# if in_var.shape[0]>1:\n",
    "#     BN1 = nn.BatchNorm1d(1)\n",
    "#     out_var_bn = BN1(out_var)\n",
    "#     print(out_var_bn)\n",
    "#     out_var_bn = T.mean(out_var_bn)\n",
    "#     print(out_var_bn)\n",
    "#     out_var_bn.backward()\n",
    "#     print(NN1.weight.grad)\n",
    "    \n",
    "# pointer_param_NN1  = NN1.named_parameters()\n",
    "# print(dict(pointer_param_NN1))    \n",
    "# NN2 = nn.Linear(2,1)\n",
    "# NN2.load_state_dict(dict(NN1.named_parameters()))\n",
    "# print(NN1.weight.data)\n",
    "# print(NN2.weight.data)\n",
    "\n",
    "# NN2.load_state_dict(dict(NN1.named_parameters()))\n",
    "# print(NN1.weight.data)\n",
    "# print(NN2.weight.data)"
   ]
  },
  {
   "cell_type": "code",
   "execution_count": null,
   "metadata": {},
   "outputs": [],
   "source": []
  },
  {
   "cell_type": "markdown",
   "metadata": {},
   "source": [
    "## Phép Toán _TENSOR_ Bảo Toàn Tính _Gradient_ - Hiện Thực Hóa Các _Custom Layer_ Trong _Deep Learning_\n",
    "\n",
    "### Clone()\n",
    "Không giống như _copy_()_, hàm _clone()_ được lưu lại để thực hiện tính toán _Gradient_ sau này. Khi thao tác tính _Gradient_, nếu gặp biến _cloned tensor_ python sẽ coi như là biến _original tensor_ và để tính _Gradient_. Như vậy ta có thể viết một _custom layer_ để phân tách các thao tác từng tiểu biến đơn lẻ (tùy thuộc vào bài toán thực tế) của _original tensor_ thông qua _clone_ nó mà đảm bảo _Gradient_ không bị gián đoạn tại bước phân tách này.\n",
    "### torch.norm(input, p='fro', dim=None, keepdim=False, out=None, dtype=None)\n",
    "Tính _norm_ cho một _matrix_ hoặc _vector_. Bài toán thực tế thường có những ràng buộc liên quan đến _norm_, vì vậy _torch.norm_ cho phép tính toán _norm_ nhưng bảo toàn tính toán _Gradient_.\n",
    "#### _p_: loại _norm\n",
    "- Frobenius norm ($\\ell_2$): được tính theo công thức sau\n",
    "$$\n",
    "\\|\\textbf{a}\\|_2 = \\sqrt{\\sum\\limits_{n=1}^{N}a_{n}^2}\n",
    "\\\\\n",
    "\\|\\textbf{A}\\|_2 = \\sqrt{\\sum\\limits_{m=1,n=1}^{M,N}a_{m,n}^2}\n",
    "$$\n",
    "- _nuclear norm_: (Updating - hình như là norm vô cực)\n",
    "- _other norm_ ($\\ell_n$): là dạng tổng quát\n",
    "$$\n",
    "\\|\\textbf{a}\\|_n = \\left({\\sum\\limits_{k=1}^{K}a_{k}^n}\\right)^{1/n}\n",
    "\\\\\n",
    "\\|\\textbf{A}\\|_n = \\left({\\sum\\limits_{m=1,k=1}^{M,K}a_{m,k}^n}\\right)^{1/n}\n",
    "$$\n",
    "\n",
    "#### _dim_: chiều tính _norm_\n",
    "_dim_ là số nguyên. $dim=0$ và $dim=1$ tính _norm_ theo cột và hàng của _matrix_, có thể hiểu thứ nhất và thứ hai của _multi-dimension matrix_.\n",
    "### torch.mean()\n",
    "Tính _mean_ cho một _tensor_ và bảo toàn tính toán _Gradient_.\n",
    "\n",
    "## Ví Dụ Cho Phép Toán _CLONE(), NORM()_ và _MEAN_\n",
    "### Mô tả bài toán\n",
    "Giả sử có một _ouput_ tên _action_ $a$ có dạng $a=[x_{1}^\\text{real},x_{2}^\\text{real},y^\\text{real},z^\\text{real},x_{1}^\\text{imag},x_{2}^\\text{imag},y^\\text{imag},z^\\text{imag}]$. _output_ đại diện cho 1 vector $\\textbf{x}\\triangleq[x_1,x_2]$ và 2 biến ngõ ra $y$ và $z$ được xác định bởi\n",
    "$$\n",
    "x_1=x_1^\\text{real} + 1j*x_1^\\text{imag}\\\\\n",
    "x_2=x_2^\\text{real} + 1j*x_2^\\text{imag}\\\\\n",
    "y=y^\\text{real} + 1j*y^\\text{imag}\\\\\n",
    "z=z^\\text{real} + 1j*z^\\text{imag}\n",
    "$$\n",
    "\n",
    "Điều kiện ràng buộc ngõ liên quan _norm_ $\\ell_2$ và _abs_ như sau\n",
    "$$\n",
    "\\|\\textbf{x}\\|_2 = 1\\\\\n",
    "|y| = 1\\\\\n",
    "|z| = 1\n",
    "$$\n",
    "Như vậy, từ _output_ $a$ ta thực hiện tính ràng buộc về _norm_ và _abs_ và thu được _output_ hợp lệ $\\hat{a}$. Giả sử hàm _loss_ $f$ có dạng mean của $\\hat{a}$\n",
    "$$f=\\mathbb{E}\\{\\hat{a}\\}$$\n",
    "vậy bước tính đạo hàm của hàm _loss_ theo $a$ liệu có thực hiện được hay không?\n",
    "### Tính toán\n",
    "Giá trị của x_1"
   ]
  },
  {
   "cell_type": "code",
   "execution_count": 5,
   "metadata": {},
   "outputs": [
    {
     "ename": "NameError",
     "evalue": "name 'torch' is not defined",
     "output_type": "error",
     "traceback": [
      "\u001b[1;31m---------------------------------------------------------------------------\u001b[0m",
      "\u001b[1;31mNameError\u001b[0m                                 Traceback (most recent call last)",
      "\u001b[1;32m<ipython-input-5-f7f00bb205f7>\u001b[0m in \u001b[0;36m<module>\u001b[1;34m\u001b[0m\n\u001b[1;32m----> 1\u001b[1;33m \u001b[0maction\u001b[0m \u001b[1;33m=\u001b[0m \u001b[0mtorch\u001b[0m\u001b[1;33m.\u001b[0m\u001b[0mtensor\u001b[0m\u001b[1;33m(\u001b[0m\u001b[1;33m[\u001b[0m\u001b[1;33m[\u001b[0m\u001b[1;36m1.\u001b[0m\u001b[1;33m,\u001b[0m\u001b[1;36m2.\u001b[0m\u001b[1;33m,\u001b[0m\u001b[1;36m3.\u001b[0m\u001b[1;33m,\u001b[0m\u001b[1;36m4.\u001b[0m\u001b[1;33m]\u001b[0m\u001b[1;33m,\u001b[0m\u001b[1;33m[\u001b[0m\u001b[1;36m1.\u001b[0m\u001b[1;33m,\u001b[0m\u001b[1;36m1.\u001b[0m\u001b[1;33m,\u001b[0m\u001b[1;36m4.\u001b[0m\u001b[1;33m,\u001b[0m\u001b[1;36m3.\u001b[0m\u001b[1;33m]\u001b[0m\u001b[1;33m]\u001b[0m\u001b[1;33m,\u001b[0m\u001b[0mrequires_grad\u001b[0m\u001b[1;33m=\u001b[0m\u001b[1;32mTrue\u001b[0m\u001b[1;33m)\u001b[0m\u001b[1;33m\u001b[0m\u001b[1;33m\u001b[0m\u001b[0m\n\u001b[0m\u001b[0;32m      2\u001b[0m \u001b[0mGK\u001b[0m \u001b[1;33m=\u001b[0m \u001b[0maction\u001b[0m\u001b[1;33m[\u001b[0m\u001b[1;33m:\u001b[0m\u001b[1;33m,\u001b[0m\u001b[1;33m[\u001b[0m\u001b[1;36m0\u001b[0m\u001b[1;33m,\u001b[0m\u001b[1;36m1\u001b[0m\u001b[1;33m]\u001b[0m\u001b[1;33m]\u001b[0m\u001b[1;33m.\u001b[0m\u001b[0mclone\u001b[0m\u001b[1;33m(\u001b[0m\u001b[1;33m)\u001b[0m\u001b[1;33m\u001b[0m\u001b[1;33m\u001b[0m\u001b[0m\n\u001b[0;32m      3\u001b[0m \u001b[0mprint\u001b[0m\u001b[1;33m(\u001b[0m\u001b[0mGK\u001b[0m\u001b[1;33m)\u001b[0m\u001b[1;33m\u001b[0m\u001b[1;33m\u001b[0m\u001b[0m\n\u001b[0;32m      4\u001b[0m \u001b[0mIRS\u001b[0m \u001b[1;33m=\u001b[0m \u001b[0maction\u001b[0m\u001b[1;33m[\u001b[0m\u001b[1;33m:\u001b[0m\u001b[1;33m,\u001b[0m\u001b[1;33m[\u001b[0m\u001b[1;36m2\u001b[0m\u001b[1;33m,\u001b[0m\u001b[1;36m3\u001b[0m\u001b[1;33m]\u001b[0m\u001b[1;33m]\u001b[0m\u001b[1;33m.\u001b[0m\u001b[0mclone\u001b[0m\u001b[1;33m(\u001b[0m\u001b[1;33m)\u001b[0m\u001b[1;33m\u001b[0m\u001b[1;33m\u001b[0m\u001b[0m\n\u001b[0;32m      5\u001b[0m \u001b[0mprint\u001b[0m\u001b[1;33m(\u001b[0m\u001b[0mIRS\u001b[0m\u001b[1;33m)\u001b[0m\u001b[1;33m\u001b[0m\u001b[1;33m\u001b[0m\u001b[0m\n",
      "\u001b[1;31mNameError\u001b[0m: name 'torch' is not defined"
     ]
    }
   ],
   "source": [
    "a = torch.tensor([[1.,2.,3.,4.],[1.,1.,4.,3.]],requires_grad=True)\n",
    "x = action[:,[0,1]].clone()\n",
    "yz = action[:,[2,3]].clone()\n",
    "print('separate var',x,yz)\n",
    "x_ell2 = torch.norm(GK)\n",
    "yz_abs = torch.norm(IRS,dim=0)\n",
    "print('norm value of vector x and abs value of y and z',x_ell2,yz_abs)\n",
    "\n",
    "x_normed = x/x_ell2\n",
    "yz_normed = yz/yz_abs\n",
    "print('vector x after norm: ',x_normed)\n",
    "print('y and z after norm: ',yz_normed)\n",
    "a_normed = torch.cat((x_normed,yz_normed),dim=1)\n",
    "print(a_normed)\n",
    "\n",
    "# Loss function is mean function\n",
    "loss = torch.mean(a_normed)\n",
    "print('Value of loss function: ',loss)\n",
    "loss.backward()\n",
    "print('Grad for original action a',a.grad)"
   ]
  },
  {
   "cell_type": "code",
   "execution_count": null,
   "metadata": {},
   "outputs": [],
   "source": []
  }
 ],
 "metadata": {
  "kernelspec": {
   "display_name": "Python 3",
   "language": "python",
   "name": "python3"
  },
  "language_info": {
   "codemirror_mode": {
    "name": "ipython",
    "version": 3
   },
   "file_extension": ".py",
   "mimetype": "text/x-python",
   "name": "python",
   "nbconvert_exporter": "python",
   "pygments_lexer": "ipython3",
   "version": "3.7.6"
  }
 },
 "nbformat": 4,
 "nbformat_minor": 4
}
