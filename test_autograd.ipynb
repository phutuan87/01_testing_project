{
 "cells": [
  {
   "cell_type": "code",
   "execution_count": 33,
   "metadata": {},
   "outputs": [
    {
     "name": "stdout",
     "output_type": "stream",
     "text": [
      "tensor([[1., 1.]])\n",
      "tensor([[1., 1.]])\n",
      "{'weight': Parameter containing:\n",
      "tensor([[1., 1.]], requires_grad=True), 'bias': Parameter containing:\n",
      "tensor([-1.], requires_grad=True)}\n",
      "2\n",
      "tensor([[ 1.0000],\n",
      "        [-1.0000]], grad_fn=<NativeBatchNormBackward>)\n",
      "tensor(0., grad_fn=<MeanBackward0>)\n",
      "tensor([[0., 0.]])\n"
     ]
    }
   ],
   "source": [
    "import numpy as np\n",
    "import torch as T\n",
    "import torch.nn as nn\n",
    "import torch.nn.functional as F\n",
    "\n",
    "T.manual_seed(10)\n",
    "\n",
    "# in_var = T.randn(2,requires_grad=True)\n",
    "# in_var = T.tensor([[0.5,-0.6],[0.7,1.],[0.2,0.2]],requires_grad=True)\n",
    "in_var = T.tensor([[1.,2.],[0.,-1.]],requires_grad=True)\n",
    "\n",
    "NN1 = nn.Linear(2,1)\n",
    "nn.init.uniform_(NN1.weight.data,-1,1)\n",
    "nn.init.constant_(NN1.weight.data,1)\n",
    "nn.init.constant_(NN1.bias.data,-1)\n",
    "\n",
    "NN2 = nn.Linear(2,1)\n",
    "NN2.load_state_dict(dict(NN1.named_parameters()))\n",
    "print(NN1.weight.data)\n",
    "print(NN2.weight.data)\n",
    "\n",
    "\n",
    "out_var = NN1(in_var)\n",
    "\n",
    "# print(out_var)\n",
    "pointer_param_NN1  = NN1.named_parameters()\n",
    "print(dict(pointer_param_NN1))\n",
    "\n",
    "check_effect_detach = 0\n",
    "if check_effect_detach == 1:\n",
    "    # sau khi detach, thong tin ve grad bien mat\n",
    "    out_var = out_var.detach()\n",
    "    out_var = out_var.numpy()\n",
    "    lost_1 = out_var.sum()/out_var.shape[0]\n",
    "    lost_1 = T.tensor(lost_1,requires_grad=True)\n",
    "    print(lost_1)\n",
    "    lost_1.backward()\n",
    "    print(NN1.weight.grad)\n",
    "elif check_effect_detach == 2:\n",
    "    # khong detach, thong tin grad van co n\n",
    "    lost = T.mean(out_var)\n",
    "    print(lost)\n",
    "    lost.backward()\n",
    "    print(NN1.weight.grad)\n",
    "\n",
    "print(in_var.shape[0])\n",
    "if in_var.shape[0]>1:\n",
    "    BN1 = nn.BatchNorm1d(1)\n",
    "    out_var_bn = BN1(out_var)\n",
    "    print(out_var_bn)\n",
    "    out_var_bn = T.mean(out_var_bn)\n",
    "    print(out_var_bn)\n",
    "    out_var_bn.backward()\n",
    "    print(NN1.weight.grad)"
   ]
  },
  {
   "cell_type": "code",
   "execution_count": null,
   "metadata": {},
   "outputs": [],
   "source": []
  },
  {
   "cell_type": "code",
   "execution_count": null,
   "metadata": {},
   "outputs": [],
   "source": []
  }
 ],
 "metadata": {
  "kernelspec": {
   "display_name": "Python 3",
   "language": "python",
   "name": "python3"
  },
  "language_info": {
   "codemirror_mode": {
    "name": "ipython",
    "version": 3
   },
   "file_extension": ".py",
   "mimetype": "text/x-python",
   "name": "python",
   "nbconvert_exporter": "python",
   "pygments_lexer": "ipython3",
   "version": "3.7.6"
  }
 },
 "nbformat": 4,
 "nbformat_minor": 4
}
