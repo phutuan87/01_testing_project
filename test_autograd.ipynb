{
 "cells": [
  {
   "cell_type": "markdown",
   "metadata": {},
   "source": [
    "# TÍNH TOÁN GRADIENT TRONG TORCH.TENSOR (Code for Pytorch)\n",
    "## Import các Libarary\n",
    "Sử dụng hai thư viện thao tác với matrix và vector là _numpy_ và _torch_."
   ]
  },
  {
   "cell_type": "code",
   "execution_count": 1,
   "metadata": {},
   "outputs": [],
   "source": [
    "import numpy as np\n",
    "import torch as T\n",
    "import torch.nn as nn\n",
    "import torch.nn.functional as F"
   ]
  },
  {
   "cell_type": "markdown",
   "metadata": {},
   "source": [
    "## Gradient trong Tensor\n",
    "Thiết lập một bộ số random cố định cho Tensor và tạo một mạng <font color='red'>_NN1_</font> với 2 ngõ vào và một ngõ ra.\n",
    "_NN1_ có tham số Weigh $\\boldsymbol{\\theta}=[\\theta_1,\\theta_2]$ và Bias $b$. Một mini-batch _in_var_ có batch-size $B=3$, $\\textbf{X}=\\{\\textbf{x}_1,\\textbf{x}_1,\\textbf{x}_3\\}$ với $\\textbf{x}_n=[x_{n,1},x_{n,2}]^\\top, n=1,2,3,$ được đựa vào mạng và hàm _loss_ được tính bởi:\n",
    "$$\n",
    "loss_n=NN1(\\textbf{x}_n)\n",
    "$$\n",
    "Một cách chi tiết hàm _loss_ được viết lại\n",
    "$$\n",
    "loss=\\theta_1 x_{n,1}+\\theta_2 x_{n,2}+b\n",
    "$$\n",
    "Như vậy _Gradient_ w.r.t $\\boldsymbol{\\theta}$, $\\nabla_{\\boldsymbol{\\theta}}|_{\\textbf{x}_n}$, chính là $\\textbf{x}_n^\\top$. Và _Gradient_ cho toàn mini-batch sẽ là trung bình của các _Gradient_ thành phần \n",
    "$$\n",
    "\\nabla_{\\boldsymbol{\\theta}}^\\text{mini-batch}=\\frac{1}{B}\\sum\\limits_{n=1}^3 \\textbf{x}_n=\\left[\\frac{1.4}{3},0.2\\right]\n",
    "$$"
   ]
  },
  {
   "cell_type": "code",
   "execution_count": 3,
   "metadata": {},
   "outputs": [
    {
     "name": "stdout",
     "output_type": "stream",
     "text": [
      "tensor(-0.2977, grad_fn=<MeanBackward0>)\n",
      "tensor([[0.4667, 0.2000]])\n"
     ]
    }
   ],
   "source": [
    "T.manual_seed(10)\n",
    "in_var = T.tensor([[0.5,-0.6],[0.7,1.],[0.2,0.2]],requires_grad=True)\n",
    "NN1 = nn.Linear(2,1)\n",
    "# nn.init.uniform_(NN1.weight.data,-1,1) # set param with rules\n",
    "# nn.init.constant_(NN1.bias.data,-1)\n",
    "out_var = NN1(in_var)\n",
    "\n",
    "loss = T.mean(out_var)\n",
    "print(loss)\n",
    "NN1.zero_grad()\n",
    "loss.backward()\n",
    "print(NN1.weight.grad)"
   ]
  },
  {
   "cell_type": "markdown",
   "metadata": {},
   "source": [
    "## Ảnh hưởng của Detach và Numpy đối với Gradient\n",
    "Ở phần này _loss_ sẽ được tính toán thủ công thông qua thao tác trên _numpy_ và sau đó kiểm tra _Gradient_ của $\\boldsymbol{\\theta}$.\n",
    "Đầu tiên, ta _detach()_ ngõ ra của _NN1_ (chính là _out_var_) sao đó chuyển sang _numpy_. Từ đây _mean_ được tính thủ công. Sau đó, _loss_ được chuyển về dạng _tensor_ tương ứng với dạng _output_ của phép <font color=red>_T.mean(out_var)_</font>. Tương tự ta tính _Gradient_ và thấy $\n",
    "\\nabla_{\\boldsymbol{\\theta}}^\\text{mini-batch}=\\left[0,0\\right]\n",
    "$. Như vậy, khi thao tác với _tensor_ phải chú ý việc bảo toàn _Gradient_ ở mỗi bước tính toán."
   ]
  },
  {
   "cell_type": "code",
   "execution_count": 4,
   "metadata": {},
   "outputs": [
    {
     "name": "stdout",
     "output_type": "stream",
     "text": [
      "tensor([[0., 0.]])\n"
     ]
    }
   ],
   "source": [
    "out_var = out_var.detach()\n",
    "out_var = out_var.numpy()\n",
    "lost_1 = out_var.sum()/out_var.shape[0]\n",
    "lost_1 = T.tensor(lost_1,requires_grad=True)\n",
    "NN1.zero_grad()\n",
    "lost_1.backward()\n",
    "print(NN1.weight.grad)"
   ]
  },
  {
   "cell_type": "code",
   "execution_count": null,
   "metadata": {},
   "outputs": [],
   "source": [
    "## Ảnh hưởng Batch-Norm-1D đối với Gradient\n"
   ]
  },
  {
   "cell_type": "code",
   "execution_count": null,
   "metadata": {},
   "outputs": [],
   "source": [
    "# elif check_effect_detach == 2:\n",
    "#     # khong detach, thong tin grad van co n\n",
    "# in_var = T.tensor([[1.,2.],[0.,-1.]],requires_grad=True)\n",
    "\n",
    "# print(in_var.shape[0])\n",
    "# if in_var.shape[0]>1:\n",
    "#     BN1 = nn.BatchNorm1d(1)\n",
    "#     out_var_bn = BN1(out_var)\n",
    "#     print(out_var_bn)\n",
    "#     out_var_bn = T.mean(out_var_bn)\n",
    "#     print(out_var_bn)\n",
    "#     out_var_bn.backward()\n",
    "#     print(NN1.weight.grad)\n",
    "    \n",
    "# pointer_param_NN1  = NN1.named_parameters()\n",
    "# print(dict(pointer_param_NN1))    \n",
    "# NN2 = nn.Linear(2,1)\n",
    "# NN2.load_state_dict(dict(NN1.named_parameters()))\n",
    "# print(NN1.weight.data)\n",
    "# print(NN2.weight.data)"
   ]
  }
 ],
 "metadata": {
  "kernelspec": {
   "display_name": "Python 3",
   "language": "python",
   "name": "python3"
  },
  "language_info": {
   "codemirror_mode": {
    "name": "ipython",
    "version": 3
   },
   "file_extension": ".py",
   "mimetype": "text/x-python",
   "name": "python",
   "nbconvert_exporter": "python",
   "pygments_lexer": "ipython3",
   "version": "3.7.6"
  }
 },
 "nbformat": 4,
 "nbformat_minor": 4
}
